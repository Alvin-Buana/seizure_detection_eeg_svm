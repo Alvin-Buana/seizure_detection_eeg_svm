{
 "cells": [
  {
   "cell_type": "code",
   "execution_count": 1,
   "metadata": {},
   "outputs": [],
   "source": [
    "from sklearn import svm\n",
    "\n",
    "classifier = svm.SVC()"
   ]
  },
  {
   "cell_type": "code",
   "execution_count": 2,
   "metadata": {},
   "outputs": [],
   "source": [
    "import numpy as np\n",
    "import pandas as pd"
   ]
  },
  {
   "attachments": {},
   "cell_type": "markdown",
   "metadata": {},
   "source": [
    "dataset: https://drive.google.com/drive/folders/1NyR0vskEpEGSqumluxfpE22KkS956r9L?usp=sharing"
   ]
  },
  {
   "cell_type": "code",
   "execution_count": 3,
   "metadata": {},
   "outputs": [
    {
     "data": {
      "text/html": [
       "<div>\n",
       "<style scoped>\n",
       "    .dataframe tbody tr th:only-of-type {\n",
       "        vertical-align: middle;\n",
       "    }\n",
       "\n",
       "    .dataframe tbody tr th {\n",
       "        vertical-align: top;\n",
       "    }\n",
       "\n",
       "    .dataframe thead th {\n",
       "        text-align: right;\n",
       "    }\n",
       "</style>\n",
       "<table border=\"1\" class=\"dataframe\">\n",
       "  <thead>\n",
       "    <tr style=\"text-align: right;\">\n",
       "      <th></th>\n",
       "      <th>filename</th>\n",
       "      <th>dispersion_entropy</th>\n",
       "      <th>RDE</th>\n",
       "      <th>kelas</th>\n",
       "    </tr>\n",
       "  </thead>\n",
       "  <tbody>\n",
       "    <tr>\n",
       "      <th>546</th>\n",
       "      <td>GNSZ064.mat</td>\n",
       "      <td>2.058364</td>\n",
       "      <td>0.019340</td>\n",
       "      <td>GNSZ</td>\n",
       "    </tr>\n",
       "    <tr>\n",
       "      <th>429</th>\n",
       "      <td>CPSZ017.mat</td>\n",
       "      <td>1.818042</td>\n",
       "      <td>0.092241</td>\n",
       "      <td>CPSZ</td>\n",
       "    </tr>\n",
       "    <tr>\n",
       "      <th>138</th>\n",
       "      <td>CPSZ062.mat</td>\n",
       "      <td>1.944489</td>\n",
       "      <td>0.043998</td>\n",
       "      <td>CPSZ</td>\n",
       "    </tr>\n",
       "    <tr>\n",
       "      <th>502</th>\n",
       "      <td>FNSZ402.mat</td>\n",
       "      <td>1.918093</td>\n",
       "      <td>0.056646</td>\n",
       "      <td>FNSZ</td>\n",
       "    </tr>\n",
       "    <tr>\n",
       "      <th>504</th>\n",
       "      <td>ABSZ010.mat</td>\n",
       "      <td>1.284294</td>\n",
       "      <td>0.192455</td>\n",
       "      <td>ABSZ</td>\n",
       "    </tr>\n",
       "    <tr>\n",
       "      <th>...</th>\n",
       "      <td>...</td>\n",
       "      <td>...</td>\n",
       "      <td>...</td>\n",
       "      <td>...</td>\n",
       "    </tr>\n",
       "    <tr>\n",
       "      <th>857</th>\n",
       "      <td>FNSZ314.mat</td>\n",
       "      <td>2.077815</td>\n",
       "      <td>0.018450</td>\n",
       "      <td>FNSZ</td>\n",
       "    </tr>\n",
       "    <tr>\n",
       "      <th>704</th>\n",
       "      <td>FNSZ311.mat</td>\n",
       "      <td>2.115211</td>\n",
       "      <td>0.014330</td>\n",
       "      <td>FNSZ</td>\n",
       "    </tr>\n",
       "    <tr>\n",
       "      <th>449</th>\n",
       "      <td>FNSZ401.mat</td>\n",
       "      <td>1.922809</td>\n",
       "      <td>0.055738</td>\n",
       "      <td>FNSZ</td>\n",
       "    </tr>\n",
       "    <tr>\n",
       "      <th>701</th>\n",
       "      <td>FNSZ339.mat</td>\n",
       "      <td>2.028344</td>\n",
       "      <td>0.032728</td>\n",
       "      <td>FNSZ</td>\n",
       "    </tr>\n",
       "    <tr>\n",
       "      <th>721</th>\n",
       "      <td>FNSZ071.mat</td>\n",
       "      <td>2.108210</td>\n",
       "      <td>0.014007</td>\n",
       "      <td>FNSZ</td>\n",
       "    </tr>\n",
       "  </tbody>\n",
       "</table>\n",
       "<p>866 rows × 4 columns</p>\n",
       "</div>"
      ],
      "text/plain": [
       "        filename  dispersion_entropy       RDE kelas\n",
       "546  GNSZ064.mat            2.058364  0.019340  GNSZ\n",
       "429  CPSZ017.mat            1.818042  0.092241  CPSZ\n",
       "138  CPSZ062.mat            1.944489  0.043998  CPSZ\n",
       "502  FNSZ402.mat            1.918093  0.056646  FNSZ\n",
       "504  ABSZ010.mat            1.284294  0.192455  ABSZ\n",
       "..           ...                 ...       ...   ...\n",
       "857  FNSZ314.mat            2.077815  0.018450  FNSZ\n",
       "704  FNSZ311.mat            2.115211  0.014330  FNSZ\n",
       "449  FNSZ401.mat            1.922809  0.055738  FNSZ\n",
       "701  FNSZ339.mat            2.028344  0.032728  FNSZ\n",
       "721  FNSZ071.mat            2.108210  0.014007  FNSZ\n",
       "\n",
       "[866 rows x 4 columns]"
      ]
     },
     "execution_count": 3,
     "metadata": {},
     "output_type": "execute_result"
    }
   ],
   "source": [
    "data_train = pd.read_csv(\"./train.csv\")\n",
    "data_train = data_train.sample(frac=1)\n",
    "data_train"
   ]
  },
  {
   "cell_type": "code",
   "execution_count": 4,
   "metadata": {},
   "outputs": [
    {
     "data": {
      "text/html": [
       "<div>\n",
       "<style scoped>\n",
       "    .dataframe tbody tr th:only-of-type {\n",
       "        vertical-align: middle;\n",
       "    }\n",
       "\n",
       "    .dataframe tbody tr th {\n",
       "        vertical-align: top;\n",
       "    }\n",
       "\n",
       "    .dataframe thead th {\n",
       "        text-align: right;\n",
       "    }\n",
       "</style>\n",
       "<table border=\"1\" class=\"dataframe\">\n",
       "  <thead>\n",
       "    <tr style=\"text-align: right;\">\n",
       "      <th></th>\n",
       "      <th>filename</th>\n",
       "      <th>dispersion_entropy</th>\n",
       "      <th>RDE</th>\n",
       "      <th>kelas</th>\n",
       "    </tr>\n",
       "  </thead>\n",
       "  <tbody>\n",
       "    <tr>\n",
       "      <th>416</th>\n",
       "      <td>CPSZ179.mat</td>\n",
       "      <td>0.037357</td>\n",
       "      <td>0.802633</td>\n",
       "      <td>CPSZ</td>\n",
       "    </tr>\n",
       "    <tr>\n",
       "      <th>546</th>\n",
       "      <td>FNSZ660.mat</td>\n",
       "      <td>1.425554</td>\n",
       "      <td>0.234965</td>\n",
       "      <td>FNSZ</td>\n",
       "    </tr>\n",
       "    <tr>\n",
       "      <th>251</th>\n",
       "      <td>CPSZ159.mat</td>\n",
       "      <td>1.853245</td>\n",
       "      <td>0.061256</td>\n",
       "      <td>CPSZ</td>\n",
       "    </tr>\n",
       "    <tr>\n",
       "      <th>221</th>\n",
       "      <td>FNSZ741.mat</td>\n",
       "      <td>1.365788</td>\n",
       "      <td>0.233327</td>\n",
       "      <td>FNSZ</td>\n",
       "    </tr>\n",
       "    <tr>\n",
       "      <th>558</th>\n",
       "      <td>FNSZ927.mat</td>\n",
       "      <td>1.757806</td>\n",
       "      <td>0.086973</td>\n",
       "      <td>FNSZ</td>\n",
       "    </tr>\n",
       "    <tr>\n",
       "      <th>...</th>\n",
       "      <td>...</td>\n",
       "      <td>...</td>\n",
       "      <td>...</td>\n",
       "      <td>...</td>\n",
       "    </tr>\n",
       "    <tr>\n",
       "      <th>328</th>\n",
       "      <td>FNSZ551.mat</td>\n",
       "      <td>2.120074</td>\n",
       "      <td>0.016986</td>\n",
       "      <td>FNSZ</td>\n",
       "    </tr>\n",
       "    <tr>\n",
       "      <th>506</th>\n",
       "      <td>FNSZ821.mat</td>\n",
       "      <td>2.151531</td>\n",
       "      <td>0.008903</td>\n",
       "      <td>FNSZ</td>\n",
       "    </tr>\n",
       "    <tr>\n",
       "      <th>80</th>\n",
       "      <td>FNSZ653.mat</td>\n",
       "      <td>1.884829</td>\n",
       "      <td>0.050180</td>\n",
       "      <td>FNSZ</td>\n",
       "    </tr>\n",
       "    <tr>\n",
       "      <th>635</th>\n",
       "      <td>GNSZ176.mat</td>\n",
       "      <td>1.594892</td>\n",
       "      <td>0.135580</td>\n",
       "      <td>GNSZ</td>\n",
       "    </tr>\n",
       "    <tr>\n",
       "      <th>406</th>\n",
       "      <td>GNSZ259.mat</td>\n",
       "      <td>2.094204</td>\n",
       "      <td>0.014272</td>\n",
       "      <td>GNSZ</td>\n",
       "    </tr>\n",
       "  </tbody>\n",
       "</table>\n",
       "<p>685 rows × 4 columns</p>\n",
       "</div>"
      ],
      "text/plain": [
       "        filename  dispersion_entropy       RDE kelas\n",
       "416  CPSZ179.mat            0.037357  0.802633  CPSZ\n",
       "546  FNSZ660.mat            1.425554  0.234965  FNSZ\n",
       "251  CPSZ159.mat            1.853245  0.061256  CPSZ\n",
       "221  FNSZ741.mat            1.365788  0.233327  FNSZ\n",
       "558  FNSZ927.mat            1.757806  0.086973  FNSZ\n",
       "..           ...                 ...       ...   ...\n",
       "328  FNSZ551.mat            2.120074  0.016986  FNSZ\n",
       "506  FNSZ821.mat            2.151531  0.008903  FNSZ\n",
       "80   FNSZ653.mat            1.884829  0.050180  FNSZ\n",
       "635  GNSZ176.mat            1.594892  0.135580  GNSZ\n",
       "406  GNSZ259.mat            2.094204  0.014272  GNSZ\n",
       "\n",
       "[685 rows x 4 columns]"
      ]
     },
     "execution_count": 4,
     "metadata": {},
     "output_type": "execute_result"
    }
   ],
   "source": [
    "data_test = pd.read_csv('./test.csv')\n",
    "data_test = data_test.sample(frac=1)\n",
    "data_test"
   ]
  },
  {
   "cell_type": "code",
   "execution_count": 5,
   "metadata": {},
   "outputs": [
    {
     "data": {
      "text/plain": [
       "FNSZ    410\n",
       "GNSZ    138\n",
       "CPSZ     98\n",
       "ABSZ     14\n",
       "TNSZ      9\n",
       "TCSZ      9\n",
       "SPSZ      5\n",
       "MYSZ      2\n",
       "Name: kelas, dtype: int64"
      ]
     },
     "execution_count": 5,
     "metadata": {},
     "output_type": "execute_result"
    }
   ],
   "source": [
    "data_test['kelas'].value_counts()"
   ]
  },
  {
   "cell_type": "code",
   "execution_count": 6,
   "metadata": {},
   "outputs": [
    {
     "data": {
      "text/plain": [
       "FNSZ    251\n",
       "GNSZ    138\n",
       "CPSZ     98\n",
       "Name: kelas, dtype: int64"
      ]
     },
     "execution_count": 6,
     "metadata": {},
     "output_type": "execute_result"
    }
   ],
   "source": [
    "data_test=data_test[data_test.kelas != \"ABSZ\"]\n",
    "data_test=data_test[data_test.kelas != \"TCSZ\"]\n",
    "data_test=data_test[data_test.kelas != \"TNSZ\"]\n",
    "data_test=data_test[data_test.kelas != \"SPSZ\"]\n",
    "data_test=data_test[data_test.kelas != \"MYSZ\"]\n",
    "\n",
    "for a in range(250):\n",
    "    if(data_test['kelas'].iloc[a] == \"FNSZ\"):\n",
    "        data_test = data_test.drop(data_test.iloc[a].name)\n",
    "\n",
    "\n",
    "data_test['kelas'].value_counts()"
   ]
  },
  {
   "cell_type": "code",
   "execution_count": 7,
   "metadata": {},
   "outputs": [
    {
     "data": {
      "text/plain": [
       "FNSZ    521\n",
       "GNSZ    172\n",
       "CPSZ    132\n",
       "ABSZ     14\n",
       "TCSZ     11\n",
       "TNSZ      9\n",
       "SPSZ      5\n",
       "MYSZ      2\n",
       "Name: kelas, dtype: int64"
      ]
     },
     "execution_count": 7,
     "metadata": {},
     "output_type": "execute_result"
    }
   ],
   "source": [
    "data_train['kelas'].value_counts()"
   ]
  },
  {
   "cell_type": "code",
   "execution_count": 8,
   "metadata": {},
   "outputs": [
    {
     "data": {
      "text/plain": [
       "FNSZ    331\n",
       "GNSZ    172\n",
       "CPSZ    132\n",
       "Name: kelas, dtype: int64"
      ]
     },
     "execution_count": 8,
     "metadata": {},
     "output_type": "execute_result"
    }
   ],
   "source": [
    "data_train=data_train[data_train.kelas != \"ABSZ\"]\n",
    "data_train=data_train[data_train.kelas != \"TCSZ\"]\n",
    "data_train=data_train[data_train.kelas != \"TNSZ\"]\n",
    "data_train=data_train[data_train.kelas != \"SPSZ\"]\n",
    "data_train=data_train[data_train.kelas != \"MYSZ\"]\n",
    "data_train['kelas'].value_counts()\n",
    "\n",
    "for a in range(310):\n",
    "    if(data_train['kelas'].iloc[a] == \"FNSZ\"):\n",
    "        data_train = data_train.drop(data_train.iloc[a].name)\n",
    "\n",
    "\n",
    "data_train['kelas'].value_counts()"
   ]
  },
  {
   "cell_type": "code",
   "execution_count": 18,
   "metadata": {},
   "outputs": [
    {
     "data": {
      "text/plain": [
       "FNSZ    225\n",
       "GNSZ    172\n",
       "CPSZ    132\n",
       "Name: kelas, dtype: int64"
      ]
     },
     "execution_count": 18,
     "metadata": {},
     "output_type": "execute_result"
    }
   ],
   "source": [
    "for a in range(200,250):\n",
    "    if(data_train['kelas'].iloc[a] == \"FNSZ\"):\n",
    "        data_train = data_train.drop(data_train.iloc[a].name)\n",
    "\n",
    "\n",
    "data_train['kelas'].value_counts()"
   ]
  },
  {
   "cell_type": "code",
   "execution_count": 19,
   "metadata": {},
   "outputs": [
    {
     "data": {
      "text/html": [
       "<div>\n",
       "<style scoped>\n",
       "    .dataframe tbody tr th:only-of-type {\n",
       "        vertical-align: middle;\n",
       "    }\n",
       "\n",
       "    .dataframe tbody tr th {\n",
       "        vertical-align: top;\n",
       "    }\n",
       "\n",
       "    .dataframe thead th {\n",
       "        text-align: right;\n",
       "    }\n",
       "</style>\n",
       "<table border=\"1\" class=\"dataframe\">\n",
       "  <thead>\n",
       "    <tr style=\"text-align: right;\">\n",
       "      <th></th>\n",
       "      <th>dispersion_entropy</th>\n",
       "      <th>RDE</th>\n",
       "      <th>kelas</th>\n",
       "    </tr>\n",
       "  </thead>\n",
       "  <tbody>\n",
       "    <tr>\n",
       "      <th>546</th>\n",
       "      <td>2.058364</td>\n",
       "      <td>0.019340</td>\n",
       "      <td>GNSZ</td>\n",
       "    </tr>\n",
       "    <tr>\n",
       "      <th>429</th>\n",
       "      <td>1.818042</td>\n",
       "      <td>0.092241</td>\n",
       "      <td>CPSZ</td>\n",
       "    </tr>\n",
       "    <tr>\n",
       "      <th>138</th>\n",
       "      <td>1.944489</td>\n",
       "      <td>0.043998</td>\n",
       "      <td>CPSZ</td>\n",
       "    </tr>\n",
       "    <tr>\n",
       "      <th>135</th>\n",
       "      <td>2.105900</td>\n",
       "      <td>0.021936</td>\n",
       "      <td>FNSZ</td>\n",
       "    </tr>\n",
       "    <tr>\n",
       "      <th>388</th>\n",
       "      <td>2.097325</td>\n",
       "      <td>0.023070</td>\n",
       "      <td>GNSZ</td>\n",
       "    </tr>\n",
       "    <tr>\n",
       "      <th>...</th>\n",
       "      <td>...</td>\n",
       "      <td>...</td>\n",
       "      <td>...</td>\n",
       "    </tr>\n",
       "    <tr>\n",
       "      <th>857</th>\n",
       "      <td>2.077815</td>\n",
       "      <td>0.018450</td>\n",
       "      <td>FNSZ</td>\n",
       "    </tr>\n",
       "    <tr>\n",
       "      <th>704</th>\n",
       "      <td>2.115211</td>\n",
       "      <td>0.014330</td>\n",
       "      <td>FNSZ</td>\n",
       "    </tr>\n",
       "    <tr>\n",
       "      <th>449</th>\n",
       "      <td>1.922809</td>\n",
       "      <td>0.055738</td>\n",
       "      <td>FNSZ</td>\n",
       "    </tr>\n",
       "    <tr>\n",
       "      <th>701</th>\n",
       "      <td>2.028344</td>\n",
       "      <td>0.032728</td>\n",
       "      <td>FNSZ</td>\n",
       "    </tr>\n",
       "    <tr>\n",
       "      <th>721</th>\n",
       "      <td>2.108210</td>\n",
       "      <td>0.014007</td>\n",
       "      <td>FNSZ</td>\n",
       "    </tr>\n",
       "  </tbody>\n",
       "</table>\n",
       "<p>529 rows × 3 columns</p>\n",
       "</div>"
      ],
      "text/plain": [
       "     dispersion_entropy       RDE kelas\n",
       "546            2.058364  0.019340  GNSZ\n",
       "429            1.818042  0.092241  CPSZ\n",
       "138            1.944489  0.043998  CPSZ\n",
       "135            2.105900  0.021936  FNSZ\n",
       "388            2.097325  0.023070  GNSZ\n",
       "..                  ...       ...   ...\n",
       "857            2.077815  0.018450  FNSZ\n",
       "704            2.115211  0.014330  FNSZ\n",
       "449            1.922809  0.055738  FNSZ\n",
       "701            2.028344  0.032728  FNSZ\n",
       "721            2.108210  0.014007  FNSZ\n",
       "\n",
       "[529 rows x 3 columns]"
      ]
     },
     "execution_count": 19,
     "metadata": {},
     "output_type": "execute_result"
    }
   ],
   "source": [
    "data_train = data_train.drop(columns=[\"filename\"])\n",
    "data_train"
   ]
  },
  {
   "cell_type": "code",
   "execution_count": 20,
   "metadata": {},
   "outputs": [],
   "source": [
    "classes_train = np.array(data_train['kelas'])\n",
    "data_train = data_train.drop(columns=[\"kelas\"])"
   ]
  },
  {
   "cell_type": "code",
   "execution_count": 21,
   "metadata": {},
   "outputs": [
    {
     "data": {
      "text/html": [
       "<div>\n",
       "<style scoped>\n",
       "    .dataframe tbody tr th:only-of-type {\n",
       "        vertical-align: middle;\n",
       "    }\n",
       "\n",
       "    .dataframe tbody tr th {\n",
       "        vertical-align: top;\n",
       "    }\n",
       "\n",
       "    .dataframe thead th {\n",
       "        text-align: right;\n",
       "    }\n",
       "</style>\n",
       "<table border=\"1\" class=\"dataframe\">\n",
       "  <thead>\n",
       "    <tr style=\"text-align: right;\">\n",
       "      <th></th>\n",
       "      <th>dispersion_entropy</th>\n",
       "      <th>RDE</th>\n",
       "    </tr>\n",
       "  </thead>\n",
       "  <tbody>\n",
       "    <tr>\n",
       "      <th>546</th>\n",
       "      <td>2.058364</td>\n",
       "      <td>0.019340</td>\n",
       "    </tr>\n",
       "    <tr>\n",
       "      <th>429</th>\n",
       "      <td>1.818042</td>\n",
       "      <td>0.092241</td>\n",
       "    </tr>\n",
       "    <tr>\n",
       "      <th>138</th>\n",
       "      <td>1.944489</td>\n",
       "      <td>0.043998</td>\n",
       "    </tr>\n",
       "    <tr>\n",
       "      <th>135</th>\n",
       "      <td>2.105900</td>\n",
       "      <td>0.021936</td>\n",
       "    </tr>\n",
       "    <tr>\n",
       "      <th>388</th>\n",
       "      <td>2.097325</td>\n",
       "      <td>0.023070</td>\n",
       "    </tr>\n",
       "    <tr>\n",
       "      <th>...</th>\n",
       "      <td>...</td>\n",
       "      <td>...</td>\n",
       "    </tr>\n",
       "    <tr>\n",
       "      <th>857</th>\n",
       "      <td>2.077815</td>\n",
       "      <td>0.018450</td>\n",
       "    </tr>\n",
       "    <tr>\n",
       "      <th>704</th>\n",
       "      <td>2.115211</td>\n",
       "      <td>0.014330</td>\n",
       "    </tr>\n",
       "    <tr>\n",
       "      <th>449</th>\n",
       "      <td>1.922809</td>\n",
       "      <td>0.055738</td>\n",
       "    </tr>\n",
       "    <tr>\n",
       "      <th>701</th>\n",
       "      <td>2.028344</td>\n",
       "      <td>0.032728</td>\n",
       "    </tr>\n",
       "    <tr>\n",
       "      <th>721</th>\n",
       "      <td>2.108210</td>\n",
       "      <td>0.014007</td>\n",
       "    </tr>\n",
       "  </tbody>\n",
       "</table>\n",
       "<p>529 rows × 2 columns</p>\n",
       "</div>"
      ],
      "text/plain": [
       "     dispersion_entropy       RDE\n",
       "546            2.058364  0.019340\n",
       "429            1.818042  0.092241\n",
       "138            1.944489  0.043998\n",
       "135            2.105900  0.021936\n",
       "388            2.097325  0.023070\n",
       "..                  ...       ...\n",
       "857            2.077815  0.018450\n",
       "704            2.115211  0.014330\n",
       "449            1.922809  0.055738\n",
       "701            2.028344  0.032728\n",
       "721            2.108210  0.014007\n",
       "\n",
       "[529 rows x 2 columns]"
      ]
     },
     "execution_count": 21,
     "metadata": {},
     "output_type": "execute_result"
    }
   ],
   "source": [
    "data_train"
   ]
  },
  {
   "cell_type": "code",
   "execution_count": 22,
   "metadata": {},
   "outputs": [
    {
     "data": {
      "text/plain": [
       "SVC()"
      ]
     },
     "execution_count": 22,
     "metadata": {},
     "output_type": "execute_result"
    }
   ],
   "source": [
    "classifier.fit(data_train,classes_train)"
   ]
  },
  {
   "cell_type": "code",
   "execution_count": 23,
   "metadata": {},
   "outputs": [],
   "source": [
    "data_test = data_test.drop(columns=[\"filename\"])\n",
    "classes_test = np.array(data_test['kelas'])\n",
    "data_test = data_test.drop(columns=[\"kelas\"])"
   ]
  },
  {
   "cell_type": "code",
   "execution_count": 24,
   "metadata": {},
   "outputs": [],
   "source": [
    "prediksi = classifier.predict(data_test)"
   ]
  },
  {
   "cell_type": "code",
   "execution_count": 25,
   "metadata": {},
   "outputs": [
    {
     "data": {
      "text/html": [
       "<div>\n",
       "<style scoped>\n",
       "    .dataframe tbody tr th:only-of-type {\n",
       "        vertical-align: middle;\n",
       "    }\n",
       "\n",
       "    .dataframe tbody tr th {\n",
       "        vertical-align: top;\n",
       "    }\n",
       "\n",
       "    .dataframe thead th {\n",
       "        text-align: right;\n",
       "    }\n",
       "</style>\n",
       "<table border=\"1\" class=\"dataframe\">\n",
       "  <thead>\n",
       "    <tr style=\"text-align: right;\">\n",
       "      <th></th>\n",
       "      <th>dispersion_entropy</th>\n",
       "      <th>RDE</th>\n",
       "    </tr>\n",
       "  </thead>\n",
       "  <tbody>\n",
       "    <tr>\n",
       "      <th>135</th>\n",
       "      <td>2.1059</td>\n",
       "      <td>0.021936</td>\n",
       "    </tr>\n",
       "  </tbody>\n",
       "</table>\n",
       "</div>"
      ],
      "text/plain": [
       "     dispersion_entropy       RDE\n",
       "135              2.1059  0.021936"
      ]
     },
     "execution_count": 25,
     "metadata": {},
     "output_type": "execute_result"
    }
   ],
   "source": [
    "data_train.iloc[[3]]"
   ]
  },
  {
   "cell_type": "code",
   "execution_count": 26,
   "metadata": {},
   "outputs": [
    {
     "data": {
      "text/plain": [
       "array(['FNSZ'], dtype=object)"
      ]
     },
     "execution_count": 26,
     "metadata": {},
     "output_type": "execute_result"
    }
   ],
   "source": [
    "classifier.predict(data_train.iloc[[3]])"
   ]
  },
  {
   "cell_type": "code",
   "execution_count": 27,
   "metadata": {},
   "outputs": [
    {
     "data": {
      "text/plain": [
       "'FNSZ'"
      ]
     },
     "execution_count": 27,
     "metadata": {},
     "output_type": "execute_result"
    }
   ],
   "source": [
    "classes_train[3]"
   ]
  },
  {
   "cell_type": "code",
   "execution_count": 28,
   "metadata": {},
   "outputs": [
    {
     "name": "stdout",
     "output_type": "stream",
     "text": [
      "Akurasi:  0.5092402464065708\n"
     ]
    }
   ],
   "source": [
    "from sklearn.metrics import accuracy_score\n",
    "acc = accuracy_score(classes_test,prediksi)\n",
    "print(\"Akurasi: \",str(acc))"
   ]
  },
  {
   "cell_type": "code",
   "execution_count": 29,
   "metadata": {},
   "outputs": [
    {
     "data": {
      "image/png": "[encoded data removed]",
      "text/plain": [
       "<Figure size 1000x600 with 2 Axes>"
      ]
     },
     "metadata": {},
     "output_type": "display_data"
    }
   ],
   "source": [
    "from sklearn.metrics import confusion_matrix\n",
    "import seaborn as sns\n",
    "import matplotlib.pyplot as plt\n",
    "\n",
    "cm = confusion_matrix(classes_test, prediksi)\n",
    "plt.subplots(figsize=(10, 6))\n",
    "sns.heatmap(cm, annot = True)\n",
    "plt.xlabel(\"Prediksi\")\n",
    "plt.ylabel(\"Aktual\")\n",
    "plt.title(\"Confusion Matrix\")\n",
    "plt.show()"
   ]
  }
 ],
 "metadata": {
  "kernelspec": {
   "display_name": "Python 3.8.11 ('base')",
   "language": "python",
   "name": "python3"
  },
  "language_info": {
   "codemirror_mode": {
    "name": "ipython",
    "version": 3
   },
   "file_extension": ".py",
   "mimetype": "text/x-python",
   "name": "python",
   "nbconvert_exporter": "python",
   "pygments_lexer": "ipython3",
   "version": "3.8.11 (default, Jul 29 2021, 14:57:32) \n[Clang 12.0.0 ]"
  },
  "orig_nbformat": 4,
  "vscode": {
   "interpreter": {
    "hash": "220b59355a8dadb4ba3bf77e4f9773cad1e54b32290f811d9d316f35385cbe26"
   }
  }
 },
 "nbformat": 4,
 "nbformat_minor": 2
}
