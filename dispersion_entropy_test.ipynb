{
 "cells": [
  {
   "cell_type": "markdown",
   "metadata": {},
   "source": [
    "## Bentuk Data:"
   ]
  },
  {
   "cell_type": "code",
   "execution_count": 1,
   "metadata": {},
   "outputs": [],
   "source": [
    "import scipy.io\n",
    "import numpy as np\n",
    "mat = scipy.io.loadmat('DATASET/test/CPSZ133.mat')"
   ]
  },
  {
   "cell_type": "code",
   "execution_count": 2,
   "metadata": {},
   "outputs": [
    {
     "data": {
      "text/plain": [
       "array([4.35737156e+03, 4.34927593e+03, 4.34437193e+03, ...,\n",
       "       3.11111111e-03, 3.11111111e-03, 3.11111111e-03])"
      ]
     },
     "execution_count": 2,
     "metadata": {},
     "output_type": "execute_result"
    }
   ],
   "source": [
    "data = np.array(mat['signal'])[0]\n",
    "data"
   ]
  },
  {
   "cell_type": "code",
   "execution_count": 3,
   "metadata": {},
   "outputs": [],
   "source": [
    "import EntropyHub as eh\n",
    "\n",
    "disp = eh.DispEn(data)"
   ]
  },
  {
   "cell_type": "code",
   "execution_count": 4,
   "metadata": {},
   "outputs": [
    {
     "data": {
      "text/plain": [
       "(0.25083008703433485, 0.7996350089932953)"
      ]
     },
     "execution_count": 4,
     "metadata": {},
     "output_type": "execute_result"
    }
   ],
   "source": [
    "disp"
   ]
  },
  {
   "cell_type": "code",
   "execution_count": 5,
   "metadata": {},
   "outputs": [
    {
     "data": {
      "text/plain": [
       "4328.2823986183585"
      ]
     },
     "execution_count": 5,
     "metadata": {},
     "output_type": "execute_result"
    }
   ],
   "source": [
    "data[5]"
   ]
  },
  {
   "cell_type": "code",
   "execution_count": 6,
   "metadata": {},
   "outputs": [
    {
     "data": {
      "text/plain": [
       "[<matplotlib.lines.Line2D at 0x17c784e20>]"
      ]
     },
     "execution_count": 6,
     "metadata": {},
     "output_type": "execute_result"
    },
    {
     "data": {
      "image/png": "[encoded data removed]",
      "text/plain": [
       "<Figure size 640x480 with 1 Axes>"
      ]
     },
     "metadata": {},
     "output_type": "display_data"
    }
   ],
   "source": [
    "import matplotlib.pyplot as plt\n",
    "plt.plot(data) "
   ]
  },
  {
   "cell_type": "markdown",
   "metadata": {},
   "source": [
    "## Pembuatan Dataset:"
   ]
  },
  {
   "cell_type": "code",
   "execution_count": 15,
   "metadata": {},
   "outputs": [],
   "source": [
    "import os\n",
    "import shutil"
   ]
  },
  {
   "cell_type": "code",
   "execution_count": 8,
   "metadata": {},
   "outputs": [
    {
     "data": {
      "text/plain": [
       "['GNSZ018.mat',\n",
       " 'FNSZ053.mat',\n",
       " 'FNSZ047.mat',\n",
       " 'FNSZ091.mat',\n",
       " 'FNSZ046.mat',\n",
       " 'FNSZ052.mat',\n",
       " 'GNSZ019.mat',\n",
       " 'TNSZ009.mat',\n",
       " 'FNSZ044.mat',\n",
       " 'FNSZ050.mat',\n",
       " 'FNSZ093.mat',\n",
       " 'FNSZ092.mat',\n",
       " 'FNSZ051.mat',\n",
       " 'FNSZ045.mat',\n",
       " 'GNSZ022.mat',\n",
       " 'GNSZ023.mat',\n",
       " 'GNSZ035.mat',\n",
       " 'GNSZ021.mat',\n",
       " 'GNSZ009.mat',\n",
       " 'FNSZ042.mat',\n",
       " 'FNSZ094.mat',\n",
       " 'FNSZ043.mat',\n",
       " 'GNSZ008.mat',\n",
       " 'GNSZ020.mat',\n",
       " 'FNSZ030.mat',\n",
       " 'FNSZ018.mat',\n",
       " 'FNSZ019.mat',\n",
       " 'FNSZ027.mat',\n",
       " 'FNSZ033.mat',\n",
       " 'CPSZ028.mat',\n",
       " 'FNSZ037.mat',\n",
       " 'FNSZ009.mat',\n",
       " 'FNSZ035.mat',\n",
       " 'FNSZ021.mat',\n",
       " 'FNSZ008.mat',\n",
       " 'FNSZ011.mat',\n",
       " 'FNSZ039.mat',\n",
       " 'FNSZ004.mat',\n",
       " 'FNSZ010.mat',\n",
       " 'FNSZ006.mat',\n",
       " 'FNSZ012.mat',\n",
       " 'FNSZ013.mat',\n",
       " 'FNSZ003.mat',\n",
       " 'FNSZ017.mat',\n",
       " 'TCSZ001.mat',\n",
       " 'FNSZ016.mat',\n",
       " 'FNSZ028.mat',\n",
       " 'TCSZ002.mat',\n",
       " 'FNSZ015.mat',\n",
       " 'GNSZ011.mat',\n",
       " 'GNSZ005.mat',\n",
       " 'GNSZ004.mat',\n",
       " 'FNSZ070.mat',\n",
       " 'GNSZ013.mat',\n",
       " 'GNSZ007.mat',\n",
       " 'GNSZ003.mat',\n",
       " 'GNSZ017.mat',\n",
       " 'FNSZ048.mat',\n",
       " 'FNSZ049.mat',\n",
       " 'GNSZ016.mat',\n",
       " 'GNSZ002.mat',\n",
       " 'GNSZ014.mat',\n",
       " 'FNSZ088.mat',\n",
       " 'GNSZ001.mat',\n",
       " 'GNSZ015.mat']"
      ]
     },
     "execution_count": 8,
     "metadata": {},
     "output_type": "execute_result"
    }
   ],
   "source": [
    "os.listdir('./DATASET/train')"
   ]
  },
  {
   "cell_type": "code",
   "execution_count": 18,
   "metadata": {},
   "outputs": [],
   "source": [
    "#classes:GNSZ, FNSZ, SPSZ, CPSZ, ABSZ, TNSZ, CNSZ, TCSZ, ATSZ, MYSZ\n",
    "datapath = \"./DATASET/train\"\n",
    "for filename in os.listdir(datapath):\n",
    "    classname = filename[:4]\n",
    "    if (os.path.exists('./per_class_dataset/'+classname) == False):\n",
    "        os.makedirs('./per_class_dataset/'+classname)\n",
    "    shutil.move(os.path.join(datapath,filename) , os.path.join('./per_class_dataset/'+classname,filename))"
   ]
  },
  {
   "cell_type": "code",
   "execution_count": 19,
   "metadata": {},
   "outputs": [],
   "source": [
    "#classes:GNSZ, FNSZ, SPSZ, CPSZ, ABSZ, TNSZ, CNSZ, TCSZ, ATSZ, MYSZ\n",
    "datapath = \"./DATASET/test\"\n",
    "for filename in os.listdir(datapath):\n",
    "    classname = filename[:4]\n",
    "    if (os.path.exists('./per_class_dataset/'+classname) == False):\n",
    "        os.makedirs('./per_class_dataset/'+classname)\n",
    "    shutil.move(os.path.join(datapath,filename) , os.path.join('./per_class_dataset/'+classname,filename))"
   ]
  },
  {
   "cell_type": "code",
   "execution_count": 20,
   "metadata": {},
   "outputs": [],
   "source": [
    "#classes:GNSZ, FNSZ, SPSZ, CPSZ, ABSZ, TNSZ, CNSZ, TCSZ, ATSZ, MYSZ\n",
    "f = open(\"train.csv\", \"w\")\n",
    "f.write(\"filename,dispersion_entropy,RDE,class\")\n",
    "f.close()\n",
    "\n",
    "datapath = \"./DATASET/train\"\n",
    "for filename in os.listdir(datapath):\n",
    "    classname = filename[:4]\n",
    "    mat = scipy.io.loadmat(os.path.join(datapath,filename))\n",
    "    data = np.array(mat['signal'])[0]\n",
    "    disp = eh.DispEn(data)\n",
    "    \n",
    "    f = open(\"train.csv\", \"a\")\n",
    "    f.write(\"\\n\"+\n",
    "        str(filename)+\",\"+\n",
    "        str(disp[0])+\",\"+\n",
    "        str(disp[1])+\",\"+\n",
    "        str(classname)\n",
    "    )\n",
    "    f.close()\n",
    "\n",
    "f = open(\"test.csv\", \"w\")\n",
    "f.write(\"filename,dispersion_entropy,RDE,class\")\n",
    "f.close()\n",
    "\n",
    "datapath = \"./DATASET/test\"\n",
    "for filename in os.listdir(datapath):\n",
    "    classname = filename[:4]\n",
    "    mat = scipy.io.loadmat(os.path.join(datapath,filename))\n",
    "    data = np.array(mat['signal'])[0]\n",
    "    disp = eh.DispEn(data)\n",
    "    \n",
    "    f = open(\"test.csv\", \"a\")\n",
    "    f.write(\"\\n\"+\n",
    "        str(filename)+\",\"+\n",
    "        str(disp[0])+\",\"+\n",
    "        str(disp[1])+\",\"+\n",
    "        str(classname)\n",
    "    )\n",
    "    f.close()\n",
    "\n",
    "\n",
    "\n"
   ]
  }
 ],
 "metadata": {
  "kernelspec": {
   "display_name": "Python 3.8.11 ('base')",
   "language": "python",
   "name": "python3"
  },
  "language_info": {
   "codemirror_mode": {
    "name": "ipython",
    "version": 3
   },
   "file_extension": ".py",
   "mimetype": "text/x-python",
   "name": "python",
   "nbconvert_exporter": "python",
   "pygments_lexer": "ipython3",
   "version": "3.8.11 (default, Jul 29 2021, 14:57:32) \n[Clang 12.0.0 ]"
  },
  "orig_nbformat": 4,
  "vscode": {
   "interpreter": {
    "hash": "220b59355a8dadb4ba3bf77e4f9773cad1e54b32290f811d9d316f35385cbe26"
   }
  }
 },
 "nbformat": 4,
 "nbformat_minor": 2
}
