{
 "cells": [
  {
   "cell_type": "code",
   "execution_count": 29,
   "metadata": {},
   "outputs": [],
   "source": [
    "from sklearn import svm\n",
    "\n",
    "classifier = svm.SVC()"
   ]
  },
  {
   "cell_type": "code",
   "execution_count": 30,
   "metadata": {},
   "outputs": [],
   "source": [
    "import numpy as np\n",
    "import pandas as pd"
   ]
  },
  {
   "cell_type": "code",
   "execution_count": 3,
   "metadata": {},
   "outputs": [
    {
     "data": {
      "text/html": [
       "<div>\n",
       "<style scoped>\n",
       "    .dataframe tbody tr th:only-of-type {\n",
       "        vertical-align: middle;\n",
       "    }\n",
       "\n",
       "    .dataframe tbody tr th {\n",
       "        vertical-align: top;\n",
       "    }\n",
       "\n",
       "    .dataframe thead th {\n",
       "        text-align: right;\n",
       "    }\n",
       "</style>\n",
       "<table border=\"1\" class=\"dataframe\">\n",
       "  <thead>\n",
       "    <tr style=\"text-align: right;\">\n",
       "      <th></th>\n",
       "      <th>filename</th>\n",
       "      <th>dispersion_entropy</th>\n",
       "      <th>RDE</th>\n",
       "      <th>kelas</th>\n",
       "    </tr>\n",
       "  </thead>\n",
       "  <tbody>\n",
       "    <tr>\n",
       "      <th>0</th>\n",
       "      <td>FNSZ325.mat</td>\n",
       "      <td>2.177414</td>\n",
       "      <td>0.004687</td>\n",
       "      <td>FNSZ</td>\n",
       "    </tr>\n",
       "    <tr>\n",
       "      <th>1</th>\n",
       "      <td>FNSZ443.mat</td>\n",
       "      <td>2.173413</td>\n",
       "      <td>0.005799</td>\n",
       "      <td>FNSZ</td>\n",
       "    </tr>\n",
       "    <tr>\n",
       "      <th>2</th>\n",
       "      <td>FNSZ457.mat</td>\n",
       "      <td>2.128589</td>\n",
       "      <td>0.014401</td>\n",
       "      <td>FNSZ</td>\n",
       "    </tr>\n",
       "    <tr>\n",
       "      <th>3</th>\n",
       "      <td>GNSZ018.mat</td>\n",
       "      <td>0.778805</td>\n",
       "      <td>0.549478</td>\n",
       "      <td>GNSZ</td>\n",
       "    </tr>\n",
       "    <tr>\n",
       "      <th>4</th>\n",
       "      <td>FNSZ331.mat</td>\n",
       "      <td>1.926150</td>\n",
       "      <td>0.065480</td>\n",
       "      <td>FNSZ</td>\n",
       "    </tr>\n",
       "    <tr>\n",
       "      <th>...</th>\n",
       "      <td>...</td>\n",
       "      <td>...</td>\n",
       "      <td>...</td>\n",
       "      <td>...</td>\n",
       "    </tr>\n",
       "    <tr>\n",
       "      <th>861</th>\n",
       "      <td>FNSZ300.mat</td>\n",
       "      <td>2.151531</td>\n",
       "      <td>0.008903</td>\n",
       "      <td>FNSZ</td>\n",
       "    </tr>\n",
       "    <tr>\n",
       "      <th>862</th>\n",
       "      <td>GNSZ029.mat</td>\n",
       "      <td>2.060288</td>\n",
       "      <td>0.019217</td>\n",
       "      <td>GNSZ</td>\n",
       "    </tr>\n",
       "    <tr>\n",
       "      <th>863</th>\n",
       "      <td>GNSZ001.mat</td>\n",
       "      <td>1.545435</td>\n",
       "      <td>0.161897</td>\n",
       "      <td>GNSZ</td>\n",
       "    </tr>\n",
       "    <tr>\n",
       "      <th>864</th>\n",
       "      <td>FNSZ328.mat</td>\n",
       "      <td>2.140018</td>\n",
       "      <td>0.013467</td>\n",
       "      <td>FNSZ</td>\n",
       "    </tr>\n",
       "    <tr>\n",
       "      <th>865</th>\n",
       "      <td>GNSZ015.mat</td>\n",
       "      <td>2.147839</td>\n",
       "      <td>0.009838</td>\n",
       "      <td>GNSZ</td>\n",
       "    </tr>\n",
       "  </tbody>\n",
       "</table>\n",
       "<p>866 rows × 4 columns</p>\n",
       "</div>"
      ],
      "text/plain": [
       "        filename  dispersion_entropy       RDE kelas\n",
       "0    FNSZ325.mat            2.177414  0.004687  FNSZ\n",
       "1    FNSZ443.mat            2.173413  0.005799  FNSZ\n",
       "2    FNSZ457.mat            2.128589  0.014401  FNSZ\n",
       "3    GNSZ018.mat            0.778805  0.549478  GNSZ\n",
       "4    FNSZ331.mat            1.926150  0.065480  FNSZ\n",
       "..           ...                 ...       ...   ...\n",
       "861  FNSZ300.mat            2.151531  0.008903  FNSZ\n",
       "862  GNSZ029.mat            2.060288  0.019217  GNSZ\n",
       "863  GNSZ001.mat            1.545435  0.161897  GNSZ\n",
       "864  FNSZ328.mat            2.140018  0.013467  FNSZ\n",
       "865  GNSZ015.mat            2.147839  0.009838  GNSZ\n",
       "\n",
       "[866 rows x 4 columns]"
      ]
     },
     "execution_count": 3,
     "metadata": {},
     "output_type": "execute_result"
    }
   ],
   "source": [
    "data_train = pd.read_csv(\"./train.csv\")\n",
    "data_train"
   ]
  },
  {
   "cell_type": "code",
   "execution_count": 4,
   "metadata": {},
   "outputs": [
    {
     "data": {
      "text/html": [
       "<div>\n",
       "<style scoped>\n",
       "    .dataframe tbody tr th:only-of-type {\n",
       "        vertical-align: middle;\n",
       "    }\n",
       "\n",
       "    .dataframe tbody tr th {\n",
       "        vertical-align: top;\n",
       "    }\n",
       "\n",
       "    .dataframe thead th {\n",
       "        text-align: right;\n",
       "    }\n",
       "</style>\n",
       "<table border=\"1\" class=\"dataframe\">\n",
       "  <thead>\n",
       "    <tr style=\"text-align: right;\">\n",
       "      <th></th>\n",
       "      <th>filename</th>\n",
       "      <th>dispersion_entropy</th>\n",
       "      <th>RDE</th>\n",
       "      <th>kelas</th>\n",
       "    </tr>\n",
       "  </thead>\n",
       "  <tbody>\n",
       "    <tr>\n",
       "      <th>0</th>\n",
       "      <td>MYSZ003.mat</td>\n",
       "      <td>0.079170</td>\n",
       "      <td>0.784690</td>\n",
       "      <td>MYSZ</td>\n",
       "    </tr>\n",
       "    <tr>\n",
       "      <th>1</th>\n",
       "      <td>FNSZ641.mat</td>\n",
       "      <td>1.386467</td>\n",
       "      <td>0.183812</td>\n",
       "      <td>FNSZ</td>\n",
       "    </tr>\n",
       "    <tr>\n",
       "      <th>2</th>\n",
       "      <td>FNSZ899.mat</td>\n",
       "      <td>1.617569</td>\n",
       "      <td>0.122826</td>\n",
       "      <td>FNSZ</td>\n",
       "    </tr>\n",
       "    <tr>\n",
       "      <th>3</th>\n",
       "      <td>FNSZ655.mat</td>\n",
       "      <td>2.030250</td>\n",
       "      <td>0.031383</td>\n",
       "      <td>FNSZ</td>\n",
       "    </tr>\n",
       "    <tr>\n",
       "      <th>4</th>\n",
       "      <td>GNSZ232.mat</td>\n",
       "      <td>1.392251</td>\n",
       "      <td>0.189670</td>\n",
       "      <td>GNSZ</td>\n",
       "    </tr>\n",
       "    <tr>\n",
       "      <th>...</th>\n",
       "      <td>...</td>\n",
       "      <td>...</td>\n",
       "      <td>...</td>\n",
       "      <td>...</td>\n",
       "    </tr>\n",
       "    <tr>\n",
       "      <th>680</th>\n",
       "      <td>GNSZ203.mat</td>\n",
       "      <td>1.474234</td>\n",
       "      <td>0.157782</td>\n",
       "      <td>GNSZ</td>\n",
       "    </tr>\n",
       "    <tr>\n",
       "      <th>681</th>\n",
       "      <td>GNSZ217.mat</td>\n",
       "      <td>1.356132</td>\n",
       "      <td>0.219959</td>\n",
       "      <td>GNSZ</td>\n",
       "    </tr>\n",
       "    <tr>\n",
       "      <th>682</th>\n",
       "      <td>FNSZ880.mat</td>\n",
       "      <td>1.862965</td>\n",
       "      <td>0.059810</td>\n",
       "      <td>FNSZ</td>\n",
       "    </tr>\n",
       "    <tr>\n",
       "      <th>683</th>\n",
       "      <td>FNSZ658.mat</td>\n",
       "      <td>1.302725</td>\n",
       "      <td>0.218821</td>\n",
       "      <td>FNSZ</td>\n",
       "    </tr>\n",
       "    <tr>\n",
       "      <th>684</th>\n",
       "      <td>TNSZ013.mat</td>\n",
       "      <td>2.117066</td>\n",
       "      <td>0.013705</td>\n",
       "      <td>TNSZ</td>\n",
       "    </tr>\n",
       "  </tbody>\n",
       "</table>\n",
       "<p>685 rows × 4 columns</p>\n",
       "</div>"
      ],
      "text/plain": [
       "        filename  dispersion_entropy       RDE kelas\n",
       "0    MYSZ003.mat            0.079170  0.784690  MYSZ\n",
       "1    FNSZ641.mat            1.386467  0.183812  FNSZ\n",
       "2    FNSZ899.mat            1.617569  0.122826  FNSZ\n",
       "3    FNSZ655.mat            2.030250  0.031383  FNSZ\n",
       "4    GNSZ232.mat            1.392251  0.189670  GNSZ\n",
       "..           ...                 ...       ...   ...\n",
       "680  GNSZ203.mat            1.474234  0.157782  GNSZ\n",
       "681  GNSZ217.mat            1.356132  0.219959  GNSZ\n",
       "682  FNSZ880.mat            1.862965  0.059810  FNSZ\n",
       "683  FNSZ658.mat            1.302725  0.218821  FNSZ\n",
       "684  TNSZ013.mat            2.117066  0.013705  TNSZ\n",
       "\n",
       "[685 rows x 4 columns]"
      ]
     },
     "execution_count": 4,
     "metadata": {},
     "output_type": "execute_result"
    }
   ],
   "source": [
    "data_test = pd.read_csv('./test.csv')\n",
    "data_test"
   ]
  },
  {
   "cell_type": "code",
   "execution_count": 5,
   "metadata": {},
   "outputs": [
    {
     "data": {
      "text/plain": [
       "FNSZ    410\n",
       "GNSZ    138\n",
       "CPSZ     98\n",
       "ABSZ     14\n",
       "TNSZ      9\n",
       "TCSZ      9\n",
       "SPSZ      5\n",
       "MYSZ      2\n",
       "Name: kelas, dtype: int64"
      ]
     },
     "execution_count": 5,
     "metadata": {},
     "output_type": "execute_result"
    }
   ],
   "source": [
    "data_test['kelas'].value_counts()"
   ]
  },
  {
   "cell_type": "code",
   "execution_count": 11,
   "metadata": {},
   "outputs": [
    {
     "data": {
      "text/plain": [
       "FNSZ    261\n",
       "GNSZ    138\n",
       "CPSZ     98\n",
       "Name: kelas, dtype: int64"
      ]
     },
     "execution_count": 11,
     "metadata": {},
     "output_type": "execute_result"
    }
   ],
   "source": [
    "data_test=data_test[data_test.kelas != \"ABSZ\"]\n",
    "data_test=data_test[data_test.kelas != \"TCSZ\"]\n",
    "data_test=data_test[data_test.kelas != \"TNSZ\"]\n",
    "data_test=data_test[data_test.kelas != \"SPSZ\"]\n",
    "data_test=data_test[data_test.kelas != \"MYSZ\"]\n",
    "\n",
    "for a in range(250):\n",
    "    if(data_test['kelas'].iloc[a] == \"FNSZ\"):\n",
    "        data_test = data_test.drop(data_test.iloc[a].name)\n",
    "\n",
    "\n",
    "data_test['kelas'].value_counts()"
   ]
  },
  {
   "cell_type": "code",
   "execution_count": 6,
   "metadata": {},
   "outputs": [
    {
     "data": {
      "text/plain": [
       "FNSZ    521\n",
       "GNSZ    172\n",
       "CPSZ    132\n",
       "ABSZ     14\n",
       "TCSZ     11\n",
       "TNSZ      9\n",
       "SPSZ      5\n",
       "MYSZ      2\n",
       "Name: kelas, dtype: int64"
      ]
     },
     "execution_count": 6,
     "metadata": {},
     "output_type": "execute_result"
    }
   ],
   "source": [
    "data_train['kelas'].value_counts()"
   ]
  },
  {
   "cell_type": "code",
   "execution_count": 12,
   "metadata": {},
   "outputs": [
    {
     "data": {
      "text/plain": [
       "FNSZ    332\n",
       "GNSZ    172\n",
       "CPSZ    132\n",
       "Name: kelas, dtype: int64"
      ]
     },
     "execution_count": 12,
     "metadata": {},
     "output_type": "execute_result"
    }
   ],
   "source": [
    "data_train=data_train[data_train.kelas != \"ABSZ\"]\n",
    "data_train=data_train[data_train.kelas != \"TCSZ\"]\n",
    "data_train=data_train[data_train.kelas != \"TNSZ\"]\n",
    "data_train=data_train[data_train.kelas != \"SPSZ\"]\n",
    "data_train=data_train[data_train.kelas != \"MYSZ\"]\n",
    "data_train['kelas'].value_counts()\n",
    "\n",
    "for a in range(310):\n",
    "    if(data_train['kelas'].iloc[a] == \"FNSZ\"):\n",
    "        data_train = data_train.drop(data_train.iloc[a].name)\n",
    "\n",
    "\n",
    "data_train['kelas'].value_counts()"
   ]
  },
  {
   "cell_type": "code",
   "execution_count": 17,
   "metadata": {},
   "outputs": [
    {
     "data": {
      "text/plain": [
       "FNSZ    228\n",
       "GNSZ    172\n",
       "CPSZ    132\n",
       "Name: kelas, dtype: int64"
      ]
     },
     "execution_count": 17,
     "metadata": {},
     "output_type": "execute_result"
    }
   ],
   "source": [
    "for a in range(130,200):\n",
    "    if(data_train['kelas'].iloc[a] == \"FNSZ\"):\n",
    "        data_train = data_train.drop(data_train.iloc[a].name)\n",
    "\n",
    "\n",
    "data_train['kelas'].value_counts()"
   ]
  },
  {
   "cell_type": "code",
   "execution_count": 18,
   "metadata": {},
   "outputs": [
    {
     "data": {
      "text/html": [
       "<div>\n",
       "<style scoped>\n",
       "    .dataframe tbody tr th:only-of-type {\n",
       "        vertical-align: middle;\n",
       "    }\n",
       "\n",
       "    .dataframe tbody tr th {\n",
       "        vertical-align: top;\n",
       "    }\n",
       "\n",
       "    .dataframe thead th {\n",
       "        text-align: right;\n",
       "    }\n",
       "</style>\n",
       "<table border=\"1\" class=\"dataframe\">\n",
       "  <thead>\n",
       "    <tr style=\"text-align: right;\">\n",
       "      <th></th>\n",
       "      <th>dispersion_entropy</th>\n",
       "      <th>RDE</th>\n",
       "      <th>kelas</th>\n",
       "    </tr>\n",
       "  </thead>\n",
       "  <tbody>\n",
       "    <tr>\n",
       "      <th>3</th>\n",
       "      <td>0.778805</td>\n",
       "      <td>0.549478</td>\n",
       "      <td>GNSZ</td>\n",
       "    </tr>\n",
       "    <tr>\n",
       "      <th>6</th>\n",
       "      <td>1.395718</td>\n",
       "      <td>0.213245</td>\n",
       "      <td>GNSZ</td>\n",
       "    </tr>\n",
       "    <tr>\n",
       "      <th>7</th>\n",
       "      <td>1.487364</td>\n",
       "      <td>0.158293</td>\n",
       "      <td>GNSZ</td>\n",
       "    </tr>\n",
       "    <tr>\n",
       "      <th>11</th>\n",
       "      <td>1.985896</td>\n",
       "      <td>0.037056</td>\n",
       "      <td>FNSZ</td>\n",
       "    </tr>\n",
       "    <tr>\n",
       "      <th>12</th>\n",
       "      <td>2.080581</td>\n",
       "      <td>0.017452</td>\n",
       "      <td>CPSZ</td>\n",
       "    </tr>\n",
       "    <tr>\n",
       "      <th>...</th>\n",
       "      <td>...</td>\n",
       "      <td>...</td>\n",
       "      <td>...</td>\n",
       "    </tr>\n",
       "    <tr>\n",
       "      <th>861</th>\n",
       "      <td>2.151531</td>\n",
       "      <td>0.008903</td>\n",
       "      <td>FNSZ</td>\n",
       "    </tr>\n",
       "    <tr>\n",
       "      <th>862</th>\n",
       "      <td>2.060288</td>\n",
       "      <td>0.019217</td>\n",
       "      <td>GNSZ</td>\n",
       "    </tr>\n",
       "    <tr>\n",
       "      <th>863</th>\n",
       "      <td>1.545435</td>\n",
       "      <td>0.161897</td>\n",
       "      <td>GNSZ</td>\n",
       "    </tr>\n",
       "    <tr>\n",
       "      <th>864</th>\n",
       "      <td>2.140018</td>\n",
       "      <td>0.013467</td>\n",
       "      <td>FNSZ</td>\n",
       "    </tr>\n",
       "    <tr>\n",
       "      <th>865</th>\n",
       "      <td>2.147839</td>\n",
       "      <td>0.009838</td>\n",
       "      <td>GNSZ</td>\n",
       "    </tr>\n",
       "  </tbody>\n",
       "</table>\n",
       "<p>532 rows × 3 columns</p>\n",
       "</div>"
      ],
      "text/plain": [
       "     dispersion_entropy       RDE kelas\n",
       "3              0.778805  0.549478  GNSZ\n",
       "6              1.395718  0.213245  GNSZ\n",
       "7              1.487364  0.158293  GNSZ\n",
       "11             1.985896  0.037056  FNSZ\n",
       "12             2.080581  0.017452  CPSZ\n",
       "..                  ...       ...   ...\n",
       "861            2.151531  0.008903  FNSZ\n",
       "862            2.060288  0.019217  GNSZ\n",
       "863            1.545435  0.161897  GNSZ\n",
       "864            2.140018  0.013467  FNSZ\n",
       "865            2.147839  0.009838  GNSZ\n",
       "\n",
       "[532 rows x 3 columns]"
      ]
     },
     "execution_count": 18,
     "metadata": {},
     "output_type": "execute_result"
    }
   ],
   "source": [
    "data_train = data_train.drop(columns=[\"filename\"])\n",
    "data_train"
   ]
  },
  {
   "cell_type": "code",
   "execution_count": 19,
   "metadata": {},
   "outputs": [],
   "source": [
    "classes_train = np.array(data_train['kelas'])\n",
    "data_train = data_train.drop(columns=[\"kelas\"])"
   ]
  },
  {
   "cell_type": "code",
   "execution_count": 20,
   "metadata": {},
   "outputs": [
    {
     "data": {
      "text/html": [
       "<div>\n",
       "<style scoped>\n",
       "    .dataframe tbody tr th:only-of-type {\n",
       "        vertical-align: middle;\n",
       "    }\n",
       "\n",
       "    .dataframe tbody tr th {\n",
       "        vertical-align: top;\n",
       "    }\n",
       "\n",
       "    .dataframe thead th {\n",
       "        text-align: right;\n",
       "    }\n",
       "</style>\n",
       "<table border=\"1\" class=\"dataframe\">\n",
       "  <thead>\n",
       "    <tr style=\"text-align: right;\">\n",
       "      <th></th>\n",
       "      <th>dispersion_entropy</th>\n",
       "      <th>RDE</th>\n",
       "    </tr>\n",
       "  </thead>\n",
       "  <tbody>\n",
       "    <tr>\n",
       "      <th>3</th>\n",
       "      <td>0.778805</td>\n",
       "      <td>0.549478</td>\n",
       "    </tr>\n",
       "    <tr>\n",
       "      <th>6</th>\n",
       "      <td>1.395718</td>\n",
       "      <td>0.213245</td>\n",
       "    </tr>\n",
       "    <tr>\n",
       "      <th>7</th>\n",
       "      <td>1.487364</td>\n",
       "      <td>0.158293</td>\n",
       "    </tr>\n",
       "    <tr>\n",
       "      <th>11</th>\n",
       "      <td>1.985896</td>\n",
       "      <td>0.037056</td>\n",
       "    </tr>\n",
       "    <tr>\n",
       "      <th>12</th>\n",
       "      <td>2.080581</td>\n",
       "      <td>0.017452</td>\n",
       "    </tr>\n",
       "    <tr>\n",
       "      <th>...</th>\n",
       "      <td>...</td>\n",
       "      <td>...</td>\n",
       "    </tr>\n",
       "    <tr>\n",
       "      <th>861</th>\n",
       "      <td>2.151531</td>\n",
       "      <td>0.008903</td>\n",
       "    </tr>\n",
       "    <tr>\n",
       "      <th>862</th>\n",
       "      <td>2.060288</td>\n",
       "      <td>0.019217</td>\n",
       "    </tr>\n",
       "    <tr>\n",
       "      <th>863</th>\n",
       "      <td>1.545435</td>\n",
       "      <td>0.161897</td>\n",
       "    </tr>\n",
       "    <tr>\n",
       "      <th>864</th>\n",
       "      <td>2.140018</td>\n",
       "      <td>0.013467</td>\n",
       "    </tr>\n",
       "    <tr>\n",
       "      <th>865</th>\n",
       "      <td>2.147839</td>\n",
       "      <td>0.009838</td>\n",
       "    </tr>\n",
       "  </tbody>\n",
       "</table>\n",
       "<p>532 rows × 2 columns</p>\n",
       "</div>"
      ],
      "text/plain": [
       "     dispersion_entropy       RDE\n",
       "3              0.778805  0.549478\n",
       "6              1.395718  0.213245\n",
       "7              1.487364  0.158293\n",
       "11             1.985896  0.037056\n",
       "12             2.080581  0.017452\n",
       "..                  ...       ...\n",
       "861            2.151531  0.008903\n",
       "862            2.060288  0.019217\n",
       "863            1.545435  0.161897\n",
       "864            2.140018  0.013467\n",
       "865            2.147839  0.009838\n",
       "\n",
       "[532 rows x 2 columns]"
      ]
     },
     "execution_count": 20,
     "metadata": {},
     "output_type": "execute_result"
    }
   ],
   "source": [
    "data_train"
   ]
  },
  {
   "cell_type": "code",
   "execution_count": 21,
   "metadata": {},
   "outputs": [
    {
     "data": {
      "text/plain": [
       "SVC()"
      ]
     },
     "execution_count": 21,
     "metadata": {},
     "output_type": "execute_result"
    }
   ],
   "source": [
    "classifier.fit(data_train,classes_train)"
   ]
  },
  {
   "cell_type": "code",
   "execution_count": 22,
   "metadata": {},
   "outputs": [],
   "source": [
    "data_test = data_test.drop(columns=[\"filename\"])\n",
    "classes_test = np.array(data_test['kelas'])\n",
    "data_test = data_test.drop(columns=[\"kelas\"])"
   ]
  },
  {
   "cell_type": "code",
   "execution_count": 23,
   "metadata": {},
   "outputs": [],
   "source": [
    "prediksi = classifier.predict(data_test)"
   ]
  },
  {
   "cell_type": "code",
   "execution_count": 24,
   "metadata": {},
   "outputs": [
    {
     "data": {
      "text/html": [
       "<div>\n",
       "<style scoped>\n",
       "    .dataframe tbody tr th:only-of-type {\n",
       "        vertical-align: middle;\n",
       "    }\n",
       "\n",
       "    .dataframe tbody tr th {\n",
       "        vertical-align: top;\n",
       "    }\n",
       "\n",
       "    .dataframe thead th {\n",
       "        text-align: right;\n",
       "    }\n",
       "</style>\n",
       "<table border=\"1\" class=\"dataframe\">\n",
       "  <thead>\n",
       "    <tr style=\"text-align: right;\">\n",
       "      <th></th>\n",
       "      <th>dispersion_entropy</th>\n",
       "      <th>RDE</th>\n",
       "    </tr>\n",
       "  </thead>\n",
       "  <tbody>\n",
       "    <tr>\n",
       "      <th>11</th>\n",
       "      <td>1.985896</td>\n",
       "      <td>0.037056</td>\n",
       "    </tr>\n",
       "  </tbody>\n",
       "</table>\n",
       "</div>"
      ],
      "text/plain": [
       "    dispersion_entropy       RDE\n",
       "11            1.985896  0.037056"
      ]
     },
     "execution_count": 24,
     "metadata": {},
     "output_type": "execute_result"
    }
   ],
   "source": [
    "data_train.iloc[[3]]"
   ]
  },
  {
   "cell_type": "code",
   "execution_count": 25,
   "metadata": {},
   "outputs": [
    {
     "data": {
      "text/plain": [
       "array(['FNSZ'], dtype=object)"
      ]
     },
     "execution_count": 25,
     "metadata": {},
     "output_type": "execute_result"
    }
   ],
   "source": [
    "classifier.predict(data_train.iloc[[3]])"
   ]
  },
  {
   "cell_type": "code",
   "execution_count": 26,
   "metadata": {},
   "outputs": [
    {
     "data": {
      "text/plain": [
       "'FNSZ'"
      ]
     },
     "execution_count": 26,
     "metadata": {},
     "output_type": "execute_result"
    }
   ],
   "source": [
    "classes_train[3]"
   ]
  },
  {
   "cell_type": "code",
   "execution_count": 27,
   "metadata": {},
   "outputs": [
    {
     "name": "stdout",
     "output_type": "stream",
     "text": [
      "Akurasi:  0.5251509054325956\n"
     ]
    }
   ],
   "source": [
    "from sklearn.metrics import accuracy_score\n",
    "acc = accuracy_score(classes_test,prediksi)\n",
    "print(\"Akurasi: \",str(acc))"
   ]
  },
  {
   "cell_type": "code",
   "execution_count": 28,
   "metadata": {},
   "outputs": [
    {
     "data": {
      "image/png": "[encoded data removed]",
      "text/plain": [
       "<Figure size 1000x600 with 2 Axes>"
      ]
     },
     "metadata": {},
     "output_type": "display_data"
    }
   ],
   "source": [
    "from sklearn.metrics import confusion_matrix\n",
    "import seaborn as sns\n",
    "import matplotlib.pyplot as plt\n",
    "\n",
    "cm = confusion_matrix(classes_test, prediksi)\n",
    "plt.subplots(figsize=(10, 6))\n",
    "sns.heatmap(cm, annot = True)\n",
    "plt.xlabel(\"Prediksi\")\n",
    "plt.ylabel(\"Aktual\")\n",
    "plt.title(\"Confusion Matrix\")\n",
    "plt.show()"
   ]
  }
 ],
 "metadata": {
  "kernelspec": {
   "display_name": "Python 3.8.11 ('base')",
   "language": "python",
   "name": "python3"
  },
  "language_info": {
   "codemirror_mode": {
    "name": "ipython",
    "version": 3
   },
   "file_extension": ".py",
   "mimetype": "text/x-python",
   "name": "python",
   "nbconvert_exporter": "python",
   "pygments_lexer": "ipython3",
   "version": "3.8.11"
  },
  "orig_nbformat": 4,
  "vscode": {
   "interpreter": {
    "hash": "220b59355a8dadb4ba3bf77e4f9773cad1e54b32290f811d9d316f35385cbe26"
   }
  }
 },
 "nbformat": 4,
 "nbformat_minor": 2
}
